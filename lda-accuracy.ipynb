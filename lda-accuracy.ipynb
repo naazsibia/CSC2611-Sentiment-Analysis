{
 "cells": [
  {
   "cell_type": "code",
   "execution_count": 2,
   "metadata": {},
   "outputs": [],
   "source": [
    "from sklearn.datasets import fetch_20newsgroups\n",
    "from sklearn.decomposition import LatentDirichletAllocation\n",
    "from sklearn.feature_extraction.text import CountVectorizer\n",
    "import numpy as np\n",
    "\n",
    "# Load the dataset\n",
    "newsgroups = fetch_20newsgroups(subset='all', remove=('headers', 'footers', 'quotes'))\n",
    "documents = newsgroups.data\n",
    "labels = newsgroups.target"
   ]
  },
  {
   "cell_type": "code",
   "execution_count": 3,
   "metadata": {},
   "outputs": [],
   "source": [
    "# Create a CountVectorizer for parsing/counting words\n",
    "count_vectorizer = CountVectorizer(max_df=0.95, min_df=2, stop_words='english')\n",
    "doc_term_matrix = count_vectorizer.fit_transform(documents)"
   ]
  },
  {
   "cell_type": "code",
   "execution_count": 4,
   "metadata": {},
   "outputs": [
    {
     "data": {
      "text/plain": [
       "LatentDirichletAllocation(n_components=20, random_state=0)"
      ]
     },
     "execution_count": 4,
     "metadata": {},
     "output_type": "execute_result"
    }
   ],
   "source": [
    "# Number of topics\n",
    "n_topics = 20\n",
    "\n",
    "# Create and fit LDA model\n",
    "lda = LatentDirichletAllocation(n_components=n_topics, random_state=0)\n",
    "lda.fit(doc_term_matrix)"
   ]
  },
  {
   "cell_type": "code",
   "execution_count": 6,
   "metadata": {},
   "outputs": [
    {
     "name": "stdout",
     "output_type": "stream",
     "text": [
      "Adjusted Model Accuracy: 0.34490077470020164\n"
     ]
    }
   ],
   "source": [
    "from collections import defaultdict\n",
    "from scipy import stats\n",
    "\n",
    "# Assigns the topic to each document\n",
    "topic_assignments = lda.transform(doc_term_matrix)\n",
    "dominant_topics = np.argmax(topic_assignments, axis=1)\n",
    "\n",
    "# Create a mapping from LDA topics to actual labels\n",
    "topic_label_mapping = defaultdict(lambda: defaultdict(int))\n",
    "\n",
    "for lda_topic, actual_label in zip(dominant_topics, labels):\n",
    "    topic_label_mapping[lda_topic][actual_label] += 1\n",
    "\n",
    "# Determine the most frequent actual label for each LDA topic\n",
    "mapped_labels = {lda_topic: max(label_dict, key=label_dict.get) for lda_topic, label_dict in topic_label_mapping.items()}\n",
    "\n",
    "# Assign mapped labels based on LDA topics\n",
    "assigned_labels = [mapped_labels[lda_topic] for lda_topic in dominant_topics]\n",
    "\n",
    "# Calculate accuracy\n",
    "accuracy = np.mean(np.array(assigned_labels) == np.array(labels))\n",
    "print(f\"Adjusted Model Accuracy: {accuracy}\")\n"
   ]
  }
 ],
 "metadata": {
  "kernelspec": {
   "display_name": "Python 3",
   "language": "python",
   "name": "python3"
  },
  "language_info": {
   "codemirror_mode": {
    "name": "ipython",
    "version": 3
   },
   "file_extension": ".py",
   "mimetype": "text/x-python",
   "name": "python",
   "nbconvert_exporter": "python",
   "pygments_lexer": "ipython3",
   "version": "3.9.1"
  }
 },
 "nbformat": 4,
 "nbformat_minor": 2
}
